{
 "cells": [
  {
   "cell_type": "code",
   "execution_count": 1,
   "id": "d47533f5-02b7-4e9f-be0a-3decec53080e",
   "metadata": {},
   "outputs": [],
   "source": [
    "import pandas as pd\n",
    "import numpy as np\n",
    "import matplotlib.pyplot as plt"
   ]
  },
  {
   "cell_type": "code",
   "execution_count": 39,
   "id": "1fda4559-c3d1-48fb-a85e-ec2bba7313d1",
   "metadata": {},
   "outputs": [],
   "source": [
    "from sklearn.linear_model import LogisticRegression\n",
    "from sklearn.svm import SVC\n",
    "from sklearn.preprocessing import StandardScaler\n",
    "from sklearn.pipeline import Pipeline\n",
    "from sklearn.ensemble import RandomForestClassifier\n",
    "from sklearn.tree import DecisionTreeClassifier\n",
    "from sklearn.naive_bayes import MultinomialNB\n",
    "from sklearn.naive_bayes import GaussianNB"
   ]
  },
  {
   "cell_type": "code",
   "execution_count": 55,
   "id": "ee113639-ff45-44a7-b1d6-8bd2680fc5d4",
   "metadata": {},
   "outputs": [],
   "source": [
    "models=[{\n",
    "    'name':'logisticregression',\n",
    "    'clf':LogisticRegression(),\n",
    "    'pipeline':Pipeline([('scaler',StandardScaler()),('clf',LogisticRegression())]),\n",
    "     'params':{\n",
    "         'clf__C':[0.25,0.5,0.75,1.0]\n",
    "     }\n",
    "},\n",
    "{   \n",
    "    'name':'supportvectormachine',\n",
    "    'clf':SVC(),\n",
    "    'pipeline':Pipeline([('scaler',StandardScaler()),('clf',SVC())]),\n",
    "    'params':{\n",
    "    'clf__kernel':('rbf','poly','linear','sigmoid'),\n",
    "    'clf__C':[0.5,1,5,8,10,15,20,30,40]\n",
    "    }\n",
    "},\n",
    "{\n",
    "    'name':'Randomforestclassifier',\n",
    "    'clf':RandomForestClassifier(),\n",
    "    'pipeline':Pipeline([('scaler',StandardScaler()),('clf',RandomForestClassifier())]),\n",
    "    'params':{'clf__n_estimators':[50,75,100]}\n",
    "},\n",
    "{\n",
    "    'name':'decisiontree',\n",
    "    'clf':DecisionTreeClassifier(),\n",
    "    'pipeline':Pipeline([('scaler',StandardScaler()),('clf',DecisionTreeClassifier())]),\n",
    "    'params':{\n",
    "        'clf__criterion':('gini','entropy','log_loss'),\n",
    "        'clf__max_depth':[2,4,5,8,9]\n",
    "    }\n",
    "},\n",
    "{\n",
    "    'name':'multinomial',\n",
    "    'clf':MultinomialNB(),\n",
    "    'pipeline':Pipeline([('clf',MultinomialNB())]),\n",
    "    'params':{\n",
    "        'clf__alpha':[0.2,0.3,0.5,0.7,1.0]\n",
    "    }\n",
    "}\n",
    "]"
   ]
  },
  {
   "cell_type": "code",
   "execution_count": 4,
   "id": "4cfdf3cb-c987-4c98-9685-bfb464b886ae",
   "metadata": {},
   "outputs": [],
   "source": [
    "from sklearn.datasets import load_digits"
   ]
  },
  {
   "cell_type": "code",
   "execution_count": 5,
   "id": "b56dad97-ed3f-4e7c-bbc2-f54aa94119f7",
   "metadata": {},
   "outputs": [
    {
     "data": {
      "text/plain": [
       "['DESCR', 'data', 'feature_names', 'frame', 'images', 'target', 'target_names']"
      ]
     },
     "execution_count": 5,
     "metadata": {},
     "output_type": "execute_result"
    }
   ],
   "source": [
    "data=load_digits()\n",
    "dir(data)"
   ]
  },
  {
   "cell_type": "code",
   "execution_count": 6,
   "id": "6d971181-8965-4863-b930-92193ba66294",
   "metadata": {},
   "outputs": [
    {
     "data": {
      "text/plain": [
       "1797"
      ]
     },
     "execution_count": 6,
     "metadata": {},
     "output_type": "execute_result"
    }
   ],
   "source": [
    "target=data['target']\n",
    "len(target)"
   ]
  },
  {
   "cell_type": "code",
   "execution_count": 7,
   "id": "92b5775f-d8bd-4f6c-a2ac-aeb818fb6d7b",
   "metadata": {},
   "outputs": [
    {
     "data": {
      "text/plain": [
       "array([[ 0.,  0.,  5., ...,  0.,  0.,  0.],\n",
       "       [ 0.,  0.,  0., ..., 10.,  0.,  0.],\n",
       "       [ 0.,  0.,  0., ..., 16.,  9.,  0.],\n",
       "       ...,\n",
       "       [ 0.,  0.,  1., ...,  6.,  0.,  0.],\n",
       "       [ 0.,  0.,  2., ..., 12.,  0.,  0.],\n",
       "       [ 0.,  0., 10., ..., 12.,  1.,  0.]])"
      ]
     },
     "execution_count": 7,
     "metadata": {},
     "output_type": "execute_result"
    }
   ],
   "source": [
    "input=data['data']\n",
    "input"
   ]
  },
  {
   "cell_type": "code",
   "execution_count": 8,
   "id": "3ab49c4d-fca8-48ad-97f9-da3ea47afb33",
   "metadata": {},
   "outputs": [],
   "source": [
    "from sklearn.model_selection import train_test_split"
   ]
  },
  {
   "cell_type": "code",
   "execution_count": 9,
   "id": "28a9508d-bedb-42d6-aa50-cce7251d0fce",
   "metadata": {},
   "outputs": [],
   "source": [
    "X_train,X_test,y_train,y_test=train_test_split(input,target,test_size=0.2)"
   ]
  },
  {
   "cell_type": "code",
   "execution_count": 42,
   "id": "c13d1a5b-2916-4651-8bbe-09179d750cdd",
   "metadata": {},
   "outputs": [],
   "source": [
    "from sklearn.model_selection import GridSearchCV"
   ]
  },
  {
   "cell_type": "markdown",
   "id": "767f4c5d-0ad4-47e2-978b-b15170a18a57",
   "metadata": {},
   "source": [
    "Support vector machines(svm)"
   ]
  },
  {
   "cell_type": "code",
   "execution_count": 34,
   "id": "a737a957-fece-4f1a-b049-cd960cb49dda",
   "metadata": {},
   "outputs": [],
   "source": [
    "# params={'kernel':('linear', 'rbf','poly'), 'C':[1,5,8,10,15]}\n",
    "# clf=GridSearchCV(SVC(),params,cv=5)\n",
    "# clf.fit(X_train,y_train)\n",
    "# clf.cv_results_"
   ]
  },
  {
   "cell_type": "code",
   "execution_count": 56,
   "id": "b3a92eac-0caf-4e4b-b92e-3916a25efe28",
   "metadata": {},
   "outputs": [],
   "source": [
    "result=[]\n",
    "for model in models:\n",
    "    res=GridSearchCV(model['pipeline'],model['params'])\n",
    "    res.fit(X_train,y_train)\n",
    "    result.append({\n",
    "            'Model':model['name'],\n",
    "        'Best score':res.best_score_,\n",
    "        'Best params':res.best_params_\n",
    "    })\n",
    "    "
   ]
  },
  {
   "cell_type": "code",
   "execution_count": 59,
   "id": "fbbbff2a-2e62-444b-8402-2391546a26f7",
   "metadata": {},
   "outputs": [
    {
     "data": {
      "text/html": [
       "<div>\n",
       "<style scoped>\n",
       "    .dataframe tbody tr th:only-of-type {\n",
       "        vertical-align: middle;\n",
       "    }\n",
       "\n",
       "    .dataframe tbody tr th {\n",
       "        vertical-align: top;\n",
       "    }\n",
       "\n",
       "    .dataframe thead th {\n",
       "        text-align: right;\n",
       "    }\n",
       "</style>\n",
       "<table border=\"1\" class=\"dataframe\">\n",
       "  <thead>\n",
       "    <tr style=\"text-align: right;\">\n",
       "      <th></th>\n",
       "      <th>Model</th>\n",
       "      <th>Best score</th>\n",
       "      <th>Best params</th>\n",
       "    </tr>\n",
       "  </thead>\n",
       "  <tbody>\n",
       "    <tr>\n",
       "      <th>0</th>\n",
       "      <td>logisticregression</td>\n",
       "      <td>0.960320</td>\n",
       "      <td>{'clf__C': 0.25}</td>\n",
       "    </tr>\n",
       "    <tr>\n",
       "      <th>1</th>\n",
       "      <td>supportvectormachine</td>\n",
       "      <td>0.983991</td>\n",
       "      <td>{'clf__C': 15, 'clf__kernel': 'poly'}</td>\n",
       "    </tr>\n",
       "    <tr>\n",
       "      <th>2</th>\n",
       "      <td>Randomforestclassifier</td>\n",
       "      <td>0.972863</td>\n",
       "      <td>{'clf__n_estimators': 100}</td>\n",
       "    </tr>\n",
       "    <tr>\n",
       "      <th>3</th>\n",
       "      <td>decisiontree</td>\n",
       "      <td>0.867100</td>\n",
       "      <td>{'clf__criterion': 'entropy', 'clf__max_depth'...</td>\n",
       "    </tr>\n",
       "    <tr>\n",
       "      <th>4</th>\n",
       "      <td>multinomial</td>\n",
       "      <td>0.899804</td>\n",
       "      <td>{'clf__alpha': 0.2}</td>\n",
       "    </tr>\n",
       "  </tbody>\n",
       "</table>\n",
       "</div>"
      ],
      "text/plain": [
       "                    Model  Best score  \\\n",
       "0      logisticregression    0.960320   \n",
       "1    supportvectormachine    0.983991   \n",
       "2  Randomforestclassifier    0.972863   \n",
       "3            decisiontree    0.867100   \n",
       "4             multinomial    0.899804   \n",
       "\n",
       "                                         Best params  \n",
       "0                                   {'clf__C': 0.25}  \n",
       "1              {'clf__C': 15, 'clf__kernel': 'poly'}  \n",
       "2                         {'clf__n_estimators': 100}  \n",
       "3  {'clf__criterion': 'entropy', 'clf__max_depth'...  \n",
       "4                                {'clf__alpha': 0.2}  "
      ]
     },
     "execution_count": 59,
     "metadata": {},
     "output_type": "execute_result"
    }
   ],
   "source": [
    "model_res=pd.DataFrame(result)\n",
    "display=model_res[['Model','Best score','Best params']]\n",
    "display"
   ]
  },
  {
   "cell_type": "code",
   "execution_count": null,
   "id": "626b39f3-d66e-4b9c-956d-ba0c26e2ab07",
   "metadata": {},
   "outputs": [],
   "source": []
  },
  {
   "cell_type": "code",
   "execution_count": null,
   "id": "bb160e0c-c3a4-4742-b306-83c919743e37",
   "metadata": {},
   "outputs": [],
   "source": []
  },
  {
   "cell_type": "code",
   "execution_count": null,
   "id": "5bb2b41a-658b-4154-a5f3-abaa2627b2ab",
   "metadata": {},
   "outputs": [],
   "source": []
  }
 ],
 "metadata": {
  "kernelspec": {
   "display_name": "anaconda-2024.02-py310",
   "language": "python",
   "name": "conda-env-anaconda-2024.02-py310-py"
  },
  "language_info": {
   "codemirror_mode": {
    "name": "ipython",
    "version": 3
   },
   "file_extension": ".py",
   "mimetype": "text/x-python",
   "name": "python",
   "nbconvert_exporter": "python",
   "pygments_lexer": "ipython3",
   "version": "3.10.14"
  }
 },
 "nbformat": 4,
 "nbformat_minor": 5
}
